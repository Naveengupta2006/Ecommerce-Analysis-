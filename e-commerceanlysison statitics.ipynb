{
 "cells": [
  {
   "cell_type": "code",
   "execution_count": 1,
   "id": "1dd1423e",
   "metadata": {},
   "outputs": [
    {
     "data": {
      "application/vnd.microsoft.datawrangler.viewer.v0+json": {
       "columns": [
        {
         "name": "index",
         "rawType": "int64",
         "type": "integer"
        },
        {
         "name": "CustomerID",
         "rawType": "int64",
         "type": "integer"
        },
        {
         "name": "Age",
         "rawType": "int64",
         "type": "integer"
        },
        {
         "name": "Gender",
         "rawType": "object",
         "type": "string"
        },
        {
         "name": "ProductCategory",
         "rawType": "object",
         "type": "string"
        },
        {
         "name": "PurchaseAmount",
         "rawType": "float64",
         "type": "float"
        }
       ],
       "ref": "bddf7cc7-1bb9-48b0-9382-b3f8ae12279b",
       "rows": [
        [
         "0",
         "1001",
         "56",
         "Male",
         "Books",
         "3593.1"
        ],
        [
         "1",
         "1002",
         "46",
         "Female",
         "Electronics",
         "2690.45"
        ],
        [
         "2",
         "1003",
         "32",
         "Male",
         "Books",
         "3326.13"
        ],
        [
         "3",
         "1004",
         "25",
         "Male",
         "Clothing",
         "1748.89"
        ],
        [
         "4",
         "1005",
         "38",
         "Male",
         "Home Decor",
         "3924.03"
        ],
        [
         "5",
         "1006",
         "56",
         "Male",
         "Electronics",
         "2815.1"
        ],
        [
         "6",
         "1007",
         "36",
         "Male",
         "Electronics",
         "2477.28"
        ],
        [
         "7",
         "1008",
         "40",
         "Male",
         "Clothing",
         "4049.01"
        ],
        [
         "8",
         "1009",
         "28",
         "Male",
         "Home Decor",
         "2295.66"
        ],
        [
         "9",
         "1010",
         "28",
         "Female",
         "Books",
         "1591.54"
        ],
        [
         "10",
         "1011",
         "41",
         "Male",
         "Home Decor",
         "1443.37"
        ],
        [
         "11",
         "1012",
         "53",
         "Male",
         "Clothing",
         "3606.01"
        ],
        [
         "12",
         "1013",
         "57",
         "Female",
         "Clothing",
         "1719.57"
        ],
        [
         "13",
         "1014",
         "41",
         "Female",
         "Home Decor",
         "4754.79"
        ],
        [
         "14",
         "1015",
         "20",
         "Female",
         "Books",
         "918.07"
        ],
        [
         "15",
         "1016",
         "39",
         "Male",
         "Books",
         "4696.46"
        ],
        [
         "16",
         "1017",
         "19",
         "Female",
         "Electronics",
         "3211.02"
        ],
        [
         "17",
         "1018",
         "41",
         "Male",
         "Books",
         "2903.29"
        ],
        [
         "18",
         "1019",
         "47",
         "Male",
         "Home Decor",
         "2455.08"
        ],
        [
         "19",
         "1020",
         "55",
         "Male",
         "Clothing",
         "3399.14"
        ],
        [
         "20",
         "1021",
         "19",
         "Male",
         "Electronics",
         "2962.37"
        ],
        [
         "21",
         "1022",
         "38",
         "Female",
         "Electronics",
         "4103.3"
        ],
        [
         "22",
         "1023",
         "50",
         "Female",
         "Clothing",
         "3114.23"
        ],
        [
         "23",
         "1024",
         "29",
         "Male",
         "Books",
         "3150.3"
        ],
        [
         "24",
         "1025",
         "39",
         "Male",
         "Clothing",
         "2636.39"
        ],
        [
         "25",
         "1026",
         "42",
         "Male",
         "Books",
         "2943.05"
        ],
        [
         "26",
         "1027",
         "44",
         "Female",
         "Clothing",
         "3307.8"
        ],
        [
         "27",
         "1028",
         "59",
         "Male",
         "Home Decor",
         "1289.83"
        ],
        [
         "28",
         "1029",
         "45",
         "Male",
         "Books",
         "1651.81"
        ],
        [
         "29",
         "1030",
         "33",
         "Female",
         "Home Decor",
         "3743.26"
        ],
        [
         "30",
         "1031",
         "32",
         "Female",
         "Electronics",
         "3170.87"
        ],
        [
         "31",
         "1032",
         "20",
         "Male",
         "Clothing",
         "2816.02"
        ],
        [
         "32",
         "1033",
         "54",
         "Female",
         "Electronics",
         "3018.43"
        ],
        [
         "33",
         "1034",
         "24",
         "Female",
         "Electronics",
         "3347.58"
        ],
        [
         "34",
         "1035",
         "38",
         "Male",
         "Electronics",
         "2460.24"
        ],
        [
         "35",
         "1036",
         "26",
         "Female",
         "Electronics",
         "2221.7"
        ],
        [
         "36",
         "1037",
         "56",
         "Male",
         "Clothing",
         "3195.85"
        ],
        [
         "37",
         "1038",
         "35",
         "Female",
         "Electronics",
         "2021.63"
        ],
        [
         "38",
         "1039",
         "21",
         "Male",
         "Clothing",
         "3408.25"
        ],
        [
         "39",
         "1040",
         "42",
         "Male",
         "Clothing",
         "1297.42"
        ],
        [
         "40",
         "1041",
         "31",
         "Male",
         "Home Decor",
         "4029.16"
        ],
        [
         "41",
         "1042",
         "26",
         "Female",
         "Books",
         "3472.6"
        ],
        [
         "42",
         "1043",
         "43",
         "Male",
         "Books",
         "3256.03"
        ],
        [
         "43",
         "1044",
         "19",
         "Female",
         "Clothing",
         "3982.69"
        ],
        [
         "44",
         "1045",
         "37",
         "Male",
         "Home Decor",
         "4665.47"
        ],
        [
         "45",
         "1046",
         "45",
         "Male",
         "Clothing",
         "4014.37"
        ],
        [
         "46",
         "1047",
         "24",
         "Female",
         "Clothing",
         "1159.13"
        ],
        [
         "47",
         "1048",
         "25",
         "Male",
         "Clothing",
         "1720.42"
        ],
        [
         "48",
         "1049",
         "52",
         "Male",
         "Home Decor",
         "2375.18"
        ],
        [
         "49",
         "1050",
         "31",
         "Female",
         "Books",
         "3026.09"
        ]
       ],
       "shape": {
        "columns": 5,
        "rows": 500
       }
      },
      "text/html": [
       "<div>\n",
       "<style scoped>\n",
       "    .dataframe tbody tr th:only-of-type {\n",
       "        vertical-align: middle;\n",
       "    }\n",
       "\n",
       "    .dataframe tbody tr th {\n",
       "        vertical-align: top;\n",
       "    }\n",
       "\n",
       "    .dataframe thead th {\n",
       "        text-align: right;\n",
       "    }\n",
       "</style>\n",
       "<table border=\"1\" class=\"dataframe\">\n",
       "  <thead>\n",
       "    <tr style=\"text-align: right;\">\n",
       "      <th></th>\n",
       "      <th>CustomerID</th>\n",
       "      <th>Age</th>\n",
       "      <th>Gender</th>\n",
       "      <th>ProductCategory</th>\n",
       "      <th>PurchaseAmount</th>\n",
       "    </tr>\n",
       "  </thead>\n",
       "  <tbody>\n",
       "    <tr>\n",
       "      <th>0</th>\n",
       "      <td>1001</td>\n",
       "      <td>56</td>\n",
       "      <td>Male</td>\n",
       "      <td>Books</td>\n",
       "      <td>3593.10</td>\n",
       "    </tr>\n",
       "    <tr>\n",
       "      <th>1</th>\n",
       "      <td>1002</td>\n",
       "      <td>46</td>\n",
       "      <td>Female</td>\n",
       "      <td>Electronics</td>\n",
       "      <td>2690.45</td>\n",
       "    </tr>\n",
       "    <tr>\n",
       "      <th>2</th>\n",
       "      <td>1003</td>\n",
       "      <td>32</td>\n",
       "      <td>Male</td>\n",
       "      <td>Books</td>\n",
       "      <td>3326.13</td>\n",
       "    </tr>\n",
       "    <tr>\n",
       "      <th>3</th>\n",
       "      <td>1004</td>\n",
       "      <td>25</td>\n",
       "      <td>Male</td>\n",
       "      <td>Clothing</td>\n",
       "      <td>1748.89</td>\n",
       "    </tr>\n",
       "    <tr>\n",
       "      <th>4</th>\n",
       "      <td>1005</td>\n",
       "      <td>38</td>\n",
       "      <td>Male</td>\n",
       "      <td>Home Decor</td>\n",
       "      <td>3924.03</td>\n",
       "    </tr>\n",
       "    <tr>\n",
       "      <th>...</th>\n",
       "      <td>...</td>\n",
       "      <td>...</td>\n",
       "      <td>...</td>\n",
       "      <td>...</td>\n",
       "      <td>...</td>\n",
       "    </tr>\n",
       "    <tr>\n",
       "      <th>495</th>\n",
       "      <td>1496</td>\n",
       "      <td>56</td>\n",
       "      <td>Female</td>\n",
       "      <td>Books</td>\n",
       "      <td>2031.66</td>\n",
       "    </tr>\n",
       "    <tr>\n",
       "      <th>496</th>\n",
       "      <td>1497</td>\n",
       "      <td>49</td>\n",
       "      <td>Female</td>\n",
       "      <td>Electronics</td>\n",
       "      <td>3105.38</td>\n",
       "    </tr>\n",
       "    <tr>\n",
       "      <th>497</th>\n",
       "      <td>1498</td>\n",
       "      <td>41</td>\n",
       "      <td>Male</td>\n",
       "      <td>Clothing</td>\n",
       "      <td>1665.97</td>\n",
       "    </tr>\n",
       "    <tr>\n",
       "      <th>498</th>\n",
       "      <td>1499</td>\n",
       "      <td>40</td>\n",
       "      <td>Male</td>\n",
       "      <td>Electronics</td>\n",
       "      <td>2398.63</td>\n",
       "    </tr>\n",
       "    <tr>\n",
       "      <th>499</th>\n",
       "      <td>1500</td>\n",
       "      <td>49</td>\n",
       "      <td>Male</td>\n",
       "      <td>Clothing</td>\n",
       "      <td>3319.78</td>\n",
       "    </tr>\n",
       "  </tbody>\n",
       "</table>\n",
       "<p>500 rows × 5 columns</p>\n",
       "</div>"
      ],
      "text/plain": [
       "     CustomerID  Age  Gender ProductCategory  PurchaseAmount\n",
       "0          1001   56    Male           Books         3593.10\n",
       "1          1002   46  Female     Electronics         2690.45\n",
       "2          1003   32    Male           Books         3326.13\n",
       "3          1004   25    Male        Clothing         1748.89\n",
       "4          1005   38    Male      Home Decor         3924.03\n",
       "..          ...  ...     ...             ...             ...\n",
       "495        1496   56  Female           Books         2031.66\n",
       "496        1497   49  Female     Electronics         3105.38\n",
       "497        1498   41    Male        Clothing         1665.97\n",
       "498        1499   40    Male     Electronics         2398.63\n",
       "499        1500   49    Male        Clothing         3319.78\n",
       "\n",
       "[500 rows x 5 columns]"
      ]
     },
     "execution_count": 1,
     "metadata": {},
     "output_type": "execute_result"
    }
   ],
   "source": [
    "import pandas as pd\n",
    "import numpy as np\n",
    "\n",
    "df = pd.read_csv('ecommerce_data.csv')\n",
    "df"
   ]
  },
  {
   "cell_type": "code",
   "execution_count": 2,
   "id": "1f1ba93d",
   "metadata": {},
   "outputs": [
    {
     "name": "stdout",
     "output_type": "stream",
     "text": [
      "<class 'pandas.core.frame.DataFrame'>\n",
      "RangeIndex: 500 entries, 0 to 499\n",
      "Data columns (total 5 columns):\n",
      " #   Column           Non-Null Count  Dtype  \n",
      "---  ------           --------------  -----  \n",
      " 0   CustomerID       500 non-null    int64  \n",
      " 1   Age              500 non-null    int64  \n",
      " 2   Gender           500 non-null    object \n",
      " 3   ProductCategory  500 non-null    object \n",
      " 4   PurchaseAmount   500 non-null    float64\n",
      "dtypes: float64(1), int64(2), object(2)\n",
      "memory usage: 19.7+ KB\n"
     ]
    },
    {
     "data": {
      "text/plain": [
       "np.float64(0.0851149415017645)"
      ]
     },
     "execution_count": 2,
     "metadata": {},
     "output_type": "execute_result"
    }
   ],
   "source": [
    "# Data Cleaning\n",
    "df.head()\n",
    "\n",
    "df.info()\n",
    "\n",
    "df.describe()\n",
    "\n",
    "# missing value\n",
    "df.isnull()\n",
    "\n",
    "# Average Purchase by Gender\n",
    "df.groupby('Gender')['PurchaseAmount'].mean()\n",
    "\n",
    "#  Average Purchase by Product Category\n",
    "df.groupby('ProductCategory')['PurchaseAmount'].mean()\n",
    "\n",
    "# Standard Deviation by Category\n",
    "df.groupby('ProductCategory')['PurchaseAmount'].std()\n",
    "\n",
    "# Correlation between age and Purchase Amount\n",
    "df['Age'].corr(df['PurchaseAmount'])\n",
    "\n"
   ]
  },
  {
   "cell_type": "code",
   "execution_count": 3,
   "id": "38d05992",
   "metadata": {},
   "outputs": [
    {
     "name": "stdout",
     "output_type": "stream",
     "text": [
      "3103.2697200000002\n",
      "982.6000042317941\n",
      "39.326\n",
      "12.188179683611494\n"
     ]
    }
   ],
   "source": [
    "# numpy Calculation\n",
    "purchase_amount_array = df['PurchaseAmount'].values\n",
    "age_array = df['Age'].values\n",
    "\n",
    "# numpy calculation is Purchase Amount\n",
    "product_category_mean = np.mean(purchase_amount_array)\n",
    "product_category_std = np.std(purchase_amount_array)\n",
    "\n",
    "# numpy calcualtion is Age\n",
    "Age_mean = np.mean(age_array)\n",
    "age_std = np.std(age_array)\n",
    "\n",
    "print(product_category_mean)\n",
    "print(product_category_std)\n",
    "\n",
    "print(Age_mean)\n",
    "print(age_std)\n"
   ]
  }
 ],
 "metadata": {
  "kernelspec": {
   "display_name": "Python 3",
   "language": "python",
   "name": "python3"
  },
  "language_info": {
   "codemirror_mode": {
    "name": "ipython",
    "version": 3
   },
   "file_extension": ".py",
   "mimetype": "text/x-python",
   "name": "python",
   "nbconvert_exporter": "python",
   "pygments_lexer": "ipython3",
   "version": "3.13.2"
  }
 },
 "nbformat": 4,
 "nbformat_minor": 5
}
